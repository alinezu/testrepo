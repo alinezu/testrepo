{
  "metadata": {
    "language_info": {
      "codemirror_mode": {
        "name": "python",
        "version": 3
      },
      "file_extension": ".py",
      "mimetype": "text/x-python",
      "name": "python",
      "nbconvert_exporter": "python",
      "pygments_lexer": "ipython3",
      "version": "3.8"
    },
    "kernelspec": {
      "name": "python",
      "display_name": "Pyolite",
      "language": "python"
    },
    "toc-autonumbering": false
  },
  "nbformat_minor": 4,
  "nbformat": 4,
  "cells": [
    {
      "cell_type": "markdown",
      "source": "# My Jupyter Notebook on IBM Watson Studio",
      "metadata": {}
    },
    {
      "cell_type": "markdown",
      "source": "**Aline** <br>\ndata scientist",
      "metadata": {}
    },
    {
      "cell_type": "markdown",
      "source": "*I love data science because I love data in general and I like detecting the underlying patterns.*",
      "metadata": {}
    },
    {
      "cell_type": "markdown",
      "source": "### The next line gives the sum of 5 and 5",
      "metadata": {}
    },
    {
      "cell_type": "code",
      "source": "5+5",
      "metadata": {
        "trusted": true
      },
      "execution_count": 4,
      "outputs": [
        {
          "execution_count": 4,
          "output_type": "execute_result",
          "data": {
            "text/plain": "10"
          },
          "metadata": {}
        }
      ]
    },
    {
      "cell_type": "markdown",
      "source": "1. This is a numbered list\n2. That contains a random table\n|gender| age| favored colour|\n|-----|-----|-----|\n|male| 25|red|\n|female|67| black|\n|male| 13| pink|\n\n3. And a cute puppy \n <img src=\"https://media.4-paws.org/f/3/9/1/f39115c5c798651f95141c37b692f76b669af761/VIER%20PFOTEN_2019-03-15_001-2886x1999-1920x1330.webp\" width=400 height=400 />\n\n",
      "metadata": {}
    }
  ]
}